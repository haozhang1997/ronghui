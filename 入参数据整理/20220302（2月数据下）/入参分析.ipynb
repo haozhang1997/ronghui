{
 "cells": [
  {
   "cell_type": "code",
   "execution_count": 1,
   "metadata": {
    "collapsed": true
   },
   "outputs": [],
   "source": [
    "import os\n",
    "import numpy as np\n",
    "import pandas as pd"
   ]
  },
  {
   "cell_type": "code",
   "execution_count": 2,
   "outputs": [],
   "source": [
    "def mkdir(path):\n",
    "    folder = os.path.exists(path)\n",
    "\n",
    "    if not folder:                   #判断是否存在文件夹如果不存在则创建为文件夹\n",
    "        os.makedirs(path)            #makedirs 创建文件时如果路径不存在会创建这个路径\n",
    "    print('本次分析结果均储存在 %s\\\\%s' %(os.getcwd(),path))\n",
    "\n",
    "def score_distribute(data,var='age'):\n",
    "    score_table=pd.DataFrame()\n",
    "    distribute_cnt=data.groupby(var)['apply_no'].count()\n",
    "    ratio = distribute_cnt/data['apply_no'].count()\n",
    "    score_table['count']=distribute_cnt\n",
    "    score_table['ratio']=ratio\n",
    "    score_table.reset_index(inplace=True)\n",
    "\n",
    "    if sum(data[var].isnull()) != 0:\n",
    "        data_nan=data[data[var].isnull()].copy()\n",
    "        nan_table=pd.DataFrame()\n",
    "        nan_table[var]=pd.Series('NaN')\n",
    "        nan_table['count'] = data_nan.shape[0]\n",
    "        nan_table['ratio'] = data_nan.shape[0]/data['apply_no'].count()\n",
    "\n",
    "    total_table=pd.DataFrame()\n",
    "    total_table[var]=pd.Series('总计')\n",
    "    total_table['count']=data['apply_no'].count()\n",
    "    total_table['ratio']=data['apply_no'].count()/data['apply_no'].count()\n",
    "\n",
    "    if sum(data[var].isnull()) != 0:\n",
    "        table_all=pd.concat([score_table,nan_table,total_table],axis=0)\n",
    "    else:\n",
    "        table_all=pd.concat([score_table,total_table],axis=0)\n",
    "    return table_all\n",
    "\n",
    "def Out_Excel_score(file_name,sheetname='score_distribute_combine',col_start=2,row_start=7,rgap=2):\n",
    "    col=col_start;row=row_start\n",
    "    writer = pd.ExcelWriter(file_name,engine='xlsxwriter')\n",
    "    null=pd.DataFrame()\n",
    "    null.to_excel(writer,sheet_name = sheetname, startcol = col, startrow = row)\n",
    "    workbook = writer.book\n",
    "    worksheet = writer.sheets[sheetname]\n",
    "\n",
    "    worksheet.write(row,col,'combine');row=row+2\n",
    "    for i in range(len(score_list)):\n",
    "        #worksheet.write(row,col,score_list[i]);row=row+1\n",
    "        score_distribute_combine[i].to_excel(writer,sheet_name = sheetname, startcol = col, startrow = row,index=False)\n",
    "        row=row+score_distribute_combine[i].shape[0]+3\n",
    "    writer.close()"
   ],
   "metadata": {
    "collapsed": false,
    "pycharm": {
     "name": "#%%\n"
    }
   }
  },
  {
   "cell_type": "code",
   "execution_count": 5,
   "outputs": [],
   "source": [
    "# 入参文档位置\n",
    "recan_file_path = '/Users/haozhang/Desktop/入参数据整理/20220302（2月数据下）/萨摩耶入参.csv'\n",
    "\n",
    "# 本次分析内容（有限/无限）\n",
    "con = '有限' #分析什么的时候就放入什么数据\n",
    "\n",
    "# 输出文件夹名称\n",
    "output_dir_name = '分析结果202104'\n",
    "\n",
    "# 清洗后原始数据储存位置\n",
    "data_cleaned_path = '入参-converted-NBTSPC034.csv' #文件名\n",
    "\n",
    "# 分析结果文档\n",
    "stat_output_path = 'score_distribute_combine_limit.xlsx'\n",
    "\n"
   ],
   "metadata": {
    "collapsed": false,
    "pycharm": {
     "name": "#%%\n"
    }
   }
  },
  {
   "cell_type": "code",
   "execution_count": 18,
   "outputs": [
    {
     "name": "stdout",
     "output_type": "stream",
     "text": [
      "本次分析全量共计4268笔，其中：\n",
      "有限担保笔数共计2169笔。\n",
      "无限担保笔数共计2099笔。\n"
     ]
    }
   ],
   "source": [
    "data_rucan= pd.read_csv(recan_file_path)\n",
    "data_rucan.columns=['apply_no', 'product_id', 'api_type', 'index_name', 'score']\n",
    "\n",
    "# 有限\n",
    "data_rucan_limit = data_rucan[data_rucan.product_id=='NBTSPC034']\n",
    "# 无限\n",
    "data_rucan_unlimit = data_rucan[data_rucan.product_id=='NBTSPC035']\n",
    "# data_rucan.head(1)\n",
    "\n",
    "print('本次分析全量共计'+str(data_rucan['apply_no'].nunique())+'笔，其中：')\n",
    "print('有限担保笔数共计'+str(data_rucan_limit['apply_no'].nunique())+'笔。')\n",
    "print('无限担保笔数共计'+str(data_rucan_unlimit['apply_no'].nunique())+'笔。')\n"
   ],
   "metadata": {
    "collapsed": false,
    "pycharm": {
     "name": "#%%\n"
    }
   }
  },
  {
   "cell_type": "code",
   "execution_count": 7,
   "outputs": [
    {
     "data": {
      "text/plain": "                   apply_no product_id api_type  \\\n0        202112100340180821  NBTSPC034        A   \n1        202112100340180821  NBTSPC034        A   \n2        202112100340180821  NBTSPC034        A   \n3        202112100340180821  NBTSPC034        A   \n4        202112100340180821  NBTSPC034        A   \n...                     ...        ...      ...   \n1091112  202202280438324671  NBTSPC035        A   \n1091113  202202280438324671  NBTSPC035        A   \n1091114  202202280438324671  NBTSPC035        A   \n1091115  202202280438324671  NBTSPC035        A   \n1091116  202202280438324671  NBTSPC035        A   \n\n                                index_name   score  \n0             final_result.residentialAddr  明珠路明珠路  \n1          final_result.IN_公积金平均月缴存额_score      -1  \n2                    jg_result.companyAddr       无  \n3              final_result.IN_所有机构发放的房贷笔数       0  \n4                hg_result.residentialAddr  明珠路明珠路  \n...                                    ...     ...  \n1091112         br_bzxr_gr_result.OUT_是否通过       Y  \n1091113     br_bzxr_xg_result.industryType       C  \n1091114  hnfqz_result.IN_本产品同身份证30天内授信申请次数       1  \n1091115        rhsxsp_result.IN_近3个月人行查询次数       8  \n1091116      fxq_result.IN_是否命中高风险地区_score       0  \n\n[1091117 rows x 5 columns]",
      "text/html": "<div>\n<style scoped>\n    .dataframe tbody tr th:only-of-type {\n        vertical-align: middle;\n    }\n\n    .dataframe tbody tr th {\n        vertical-align: top;\n    }\n\n    .dataframe thead th {\n        text-align: right;\n    }\n</style>\n<table border=\"1\" class=\"dataframe\">\n  <thead>\n    <tr style=\"text-align: right;\">\n      <th></th>\n      <th>apply_no</th>\n      <th>product_id</th>\n      <th>api_type</th>\n      <th>index_name</th>\n      <th>score</th>\n    </tr>\n  </thead>\n  <tbody>\n    <tr>\n      <th>0</th>\n      <td>202112100340180821</td>\n      <td>NBTSPC034</td>\n      <td>A</td>\n      <td>final_result.residentialAddr</td>\n      <td>明珠路明珠路</td>\n    </tr>\n    <tr>\n      <th>1</th>\n      <td>202112100340180821</td>\n      <td>NBTSPC034</td>\n      <td>A</td>\n      <td>final_result.IN_公积金平均月缴存额_score</td>\n      <td>-1</td>\n    </tr>\n    <tr>\n      <th>2</th>\n      <td>202112100340180821</td>\n      <td>NBTSPC034</td>\n      <td>A</td>\n      <td>jg_result.companyAddr</td>\n      <td>无</td>\n    </tr>\n    <tr>\n      <th>3</th>\n      <td>202112100340180821</td>\n      <td>NBTSPC034</td>\n      <td>A</td>\n      <td>final_result.IN_所有机构发放的房贷笔数</td>\n      <td>0</td>\n    </tr>\n    <tr>\n      <th>4</th>\n      <td>202112100340180821</td>\n      <td>NBTSPC034</td>\n      <td>A</td>\n      <td>hg_result.residentialAddr</td>\n      <td>明珠路明珠路</td>\n    </tr>\n    <tr>\n      <th>...</th>\n      <td>...</td>\n      <td>...</td>\n      <td>...</td>\n      <td>...</td>\n      <td>...</td>\n    </tr>\n    <tr>\n      <th>1091112</th>\n      <td>202202280438324671</td>\n      <td>NBTSPC035</td>\n      <td>A</td>\n      <td>br_bzxr_gr_result.OUT_是否通过</td>\n      <td>Y</td>\n    </tr>\n    <tr>\n      <th>1091113</th>\n      <td>202202280438324671</td>\n      <td>NBTSPC035</td>\n      <td>A</td>\n      <td>br_bzxr_xg_result.industryType</td>\n      <td>C</td>\n    </tr>\n    <tr>\n      <th>1091114</th>\n      <td>202202280438324671</td>\n      <td>NBTSPC035</td>\n      <td>A</td>\n      <td>hnfqz_result.IN_本产品同身份证30天内授信申请次数</td>\n      <td>1</td>\n    </tr>\n    <tr>\n      <th>1091115</th>\n      <td>202202280438324671</td>\n      <td>NBTSPC035</td>\n      <td>A</td>\n      <td>rhsxsp_result.IN_近3个月人行查询次数</td>\n      <td>8</td>\n    </tr>\n    <tr>\n      <th>1091116</th>\n      <td>202202280438324671</td>\n      <td>NBTSPC035</td>\n      <td>A</td>\n      <td>fxq_result.IN_是否命中高风险地区_score</td>\n      <td>0</td>\n    </tr>\n  </tbody>\n</table>\n<p>1091117 rows × 5 columns</p>\n</div>"
     },
     "execution_count": 7,
     "metadata": {},
     "output_type": "execute_result"
    }
   ],
   "source": [
    "data_rucan"
   ],
   "metadata": {
    "collapsed": false,
    "pycharm": {
     "name": "#%%\n"
    }
   }
  },
  {
   "cell_type": "code",
   "execution_count": 19,
   "outputs": [
    {
     "data": {
      "text/plain": "index_name         access_result.IN_产品类型 access_result.IN_号码归属地  \\\napply_no                                                          \n202112100340180821               NBTSPC0                     上海   \n202112100340180861               NBTSPC0                     浙江   \n202112100340180862               NBTSPC0                     浙江   \n202112100340180863               NBTSPC0                     浙江   \n202112100340180870               NBTSPC0                     上海   \n...                                  ...                    ...   \n202202280438323744               NBTSPC0                     上海   \n202202280438323826               NBTSPC0                     浙江   \n202202280438323830               NBTSPC0                     浙江   \n202202280438324343               NBTSPC0                     浙江   \n202202280438324666               NBTSPC0                     浙江   \n\nindex_name         access_result.IN_命中一个月内规则隔离有效期  \\\napply_no                                            \n202112100340180821                              N   \n202112100340180861                              N   \n202112100340180862                              N   \n202112100340180863                              N   \n202112100340180870                              N   \n...                                           ...   \n202202280438323744                              N   \n202202280438323826                              N   \n202202280438323830                              N   \n202202280438324343                              N   \n202202280438324666                              N   \n\nindex_name         access_result.IN_命中终身规则隔离有效期 access_result.IN_年龄  \\\napply_no                                                              \n202112100340180821                            N                  32   \n202112100340180861                            N                  39   \n202112100340180862                            N                  25   \n202112100340180863                            N                  44   \n202112100340180870                            N                  28   \n...                                         ...                 ...   \n202202280438323744                            N                  33   \n202202280438323826                            N                  23   \n202202280438323830                            N                  22   \n202202280438324343                            N                  30   \n202202280438324666                            N                  34   \n\nindex_name         access_result.IN_手机号码归属地 access_result.IN_是否复借  \\\napply_no                                                            \n202112100340180821                   310000                     2   \n202112100340180861                   330600                     2   \n202112100340180862                   331000                     2   \n202112100340180863                   330600                     2   \n202112100340180870                   310000                     2   \n...                                     ...                   ...   \n202202280438323744                   310000                     2   \n202202280438323826                   330400                     1   \n202202280438323830                   330700                     1   \n202202280438324343                   330700                     1   \n202202280438324666                   330500                     1   \n\nindex_name         access_result.IN_用户本产品历史授信通过笔数 access_result.IN_职业类型  \\\napply_no                                                                  \n202112100340180821                              0                 40000   \n202112100340180861                              0                 40000   \n202112100340180862                              0                 40000   \n202112100340180863                              0                 30000   \n202112100340180870                              0                 40000   \n...                                           ...                   ...   \n202202280438323744                              0                 40000   \n202202280438323826                              0                 40000   \n202202280438323830                              0                 40000   \n202202280438324343                              0                 80000   \n202202280438324666                              0                 80900   \n\nindex_name         access_result.IN_行业类型  ... yys_result.OUT_是否通过  \\\napply_no                                  ...                       \n202112100340180821                 C0000  ...                   Y   \n202112100340180861                 C0000  ...                   Y   \n202112100340180862                 C0000  ...                   Y   \n202112100340180863                 C0000  ...                   Y   \n202112100340180870                 C0000  ...                   Y   \n...                                  ...  ...                 ...   \n202202280438323744                 C0000  ...                   Y   \n202202280438323826                 C0000  ...                   Y   \n202202280438323830                 C0000  ...                   Y   \n202202280438324343                 C0000  ...                   Y   \n202202280438324666                 C0000  ...                   Y   \n\nindex_name         yys_result.OUT_节点结果 yys_result.bpApplSeq  \\\napply_no                                                      \n202112100340180821                 NaN              D072112   \n202112100340180861                 NaN              D072112   \n202112100340180862                 NaN              D072112   \n202112100340180863                 NaN              D072112   \n202112100340180870                 NaN              D072112   \n...                                ...                  ...   \n202202280438323744                 NaN              D072202   \n202202280438323826                 NaN              D072202   \n202202280438323830                 NaN              D072202   \n202202280438324343                 NaN              D072202   \n202202280438324666                 NaN              D072202   \n\nindex_name         yys_result.companyAddr yys_result.idValidDateEnd  \\\napply_no                                                              \n202112100340180821                      无                   2024--0   \n202112100340180861                      无                   2034--0   \n202112100340180862                      无                   2027--1   \n202112100340180863                      无                   2026--0   \n202112100340180870                      无                   2022--1   \n...                                   ...                       ...   \n202202280438323744                      无                   2036--0   \n202202280438323826                      无                   2026--0   \n202202280438323830                      无                   2030--0   \n202202280438324343                      无                   2041--0   \n202202280438324666                      无                   2023--0   \n\nindex_name         yys_result.industryType yys_result.nodeConclus  \\\napply_no                                                            \n202112100340180821                       C                      Y   \n202112100340180861                       C                      Y   \n202112100340180862                       C                      Y   \n202112100340180863                       C                      Y   \n202112100340180870                       C                      Y   \n...                                    ...                    ...   \n202202280438323744                       C                      Y   \n202202280438323826                       C                      Y   \n202202280438323830                       C                      Y   \n202202280438324343                       C                      Y   \n202202280438324666                       C                      Y   \n\nindex_name         yys_result.occupation yys_result.permanrntAddr  \\\napply_no                                                            \n202112100340180821                     4                  安徽省旌德县孙   \n202112100340180861                     4                  安徽省阜南县柴   \n202112100340180862                     4                  浙江省玉环市沙   \n202112100340180863                     3                  浙江省诸暨市陶   \n202112100340180870                     4                  江苏省海门市三   \n...                                  ...                      ...   \n202202280438323744                     4                  福建省周宁县礼   \n202202280438323826                     4                  河南省新县沙窝   \n202202280438323830                     4                  浙江省永康市芝   \n202202280438324343                     Y                  河南省永城市黄   \n202202280438324666                     Z                  浙江省湖州市吴   \n\nindex_name         yys_result.residentialAddr  \napply_no                                       \n202112100340180821                     明珠路明珠路  \n202112100340180861                    浙江省绍兴市柯  \n202112100340180862                    浙江省台州市温  \n202112100340180863                    浙江省绍兴市诸  \n202112100340180870                    江苏省南通市海  \n...                                       ...  \n202202280438323744                    福建省宁德市周  \n202202280438323826                    河南省信阳市新  \n202202280438323830                    浙江省杭州市西  \n202202280438324343                    河南省商丘市永  \n202202280438324666                    八里店镇紫金桥  \n\n[2169 rows x 280 columns]",
      "text/html": "<div>\n<style scoped>\n    .dataframe tbody tr th:only-of-type {\n        vertical-align: middle;\n    }\n\n    .dataframe tbody tr th {\n        vertical-align: top;\n    }\n\n    .dataframe thead th {\n        text-align: right;\n    }\n</style>\n<table border=\"1\" class=\"dataframe\">\n  <thead>\n    <tr style=\"text-align: right;\">\n      <th>index_name</th>\n      <th>access_result.IN_产品类型</th>\n      <th>access_result.IN_号码归属地</th>\n      <th>access_result.IN_命中一个月内规则隔离有效期</th>\n      <th>access_result.IN_命中终身规则隔离有效期</th>\n      <th>access_result.IN_年龄</th>\n      <th>access_result.IN_手机号码归属地</th>\n      <th>access_result.IN_是否复借</th>\n      <th>access_result.IN_用户本产品历史授信通过笔数</th>\n      <th>access_result.IN_职业类型</th>\n      <th>access_result.IN_行业类型</th>\n      <th>...</th>\n      <th>yys_result.OUT_是否通过</th>\n      <th>yys_result.OUT_节点结果</th>\n      <th>yys_result.bpApplSeq</th>\n      <th>yys_result.companyAddr</th>\n      <th>yys_result.idValidDateEnd</th>\n      <th>yys_result.industryType</th>\n      <th>yys_result.nodeConclus</th>\n      <th>yys_result.occupation</th>\n      <th>yys_result.permanrntAddr</th>\n      <th>yys_result.residentialAddr</th>\n    </tr>\n    <tr>\n      <th>apply_no</th>\n      <th></th>\n      <th></th>\n      <th></th>\n      <th></th>\n      <th></th>\n      <th></th>\n      <th></th>\n      <th></th>\n      <th></th>\n      <th></th>\n      <th></th>\n      <th></th>\n      <th></th>\n      <th></th>\n      <th></th>\n      <th></th>\n      <th></th>\n      <th></th>\n      <th></th>\n      <th></th>\n      <th></th>\n    </tr>\n  </thead>\n  <tbody>\n    <tr>\n      <th>202112100340180821</th>\n      <td>NBTSPC0</td>\n      <td>上海</td>\n      <td>N</td>\n      <td>N</td>\n      <td>32</td>\n      <td>310000</td>\n      <td>2</td>\n      <td>0</td>\n      <td>40000</td>\n      <td>C0000</td>\n      <td>...</td>\n      <td>Y</td>\n      <td>NaN</td>\n      <td>D072112</td>\n      <td>无</td>\n      <td>2024--0</td>\n      <td>C</td>\n      <td>Y</td>\n      <td>4</td>\n      <td>安徽省旌德县孙</td>\n      <td>明珠路明珠路</td>\n    </tr>\n    <tr>\n      <th>202112100340180861</th>\n      <td>NBTSPC0</td>\n      <td>浙江</td>\n      <td>N</td>\n      <td>N</td>\n      <td>39</td>\n      <td>330600</td>\n      <td>2</td>\n      <td>0</td>\n      <td>40000</td>\n      <td>C0000</td>\n      <td>...</td>\n      <td>Y</td>\n      <td>NaN</td>\n      <td>D072112</td>\n      <td>无</td>\n      <td>2034--0</td>\n      <td>C</td>\n      <td>Y</td>\n      <td>4</td>\n      <td>安徽省阜南县柴</td>\n      <td>浙江省绍兴市柯</td>\n    </tr>\n    <tr>\n      <th>202112100340180862</th>\n      <td>NBTSPC0</td>\n      <td>浙江</td>\n      <td>N</td>\n      <td>N</td>\n      <td>25</td>\n      <td>331000</td>\n      <td>2</td>\n      <td>0</td>\n      <td>40000</td>\n      <td>C0000</td>\n      <td>...</td>\n      <td>Y</td>\n      <td>NaN</td>\n      <td>D072112</td>\n      <td>无</td>\n      <td>2027--1</td>\n      <td>C</td>\n      <td>Y</td>\n      <td>4</td>\n      <td>浙江省玉环市沙</td>\n      <td>浙江省台州市温</td>\n    </tr>\n    <tr>\n      <th>202112100340180863</th>\n      <td>NBTSPC0</td>\n      <td>浙江</td>\n      <td>N</td>\n      <td>N</td>\n      <td>44</td>\n      <td>330600</td>\n      <td>2</td>\n      <td>0</td>\n      <td>30000</td>\n      <td>C0000</td>\n      <td>...</td>\n      <td>Y</td>\n      <td>NaN</td>\n      <td>D072112</td>\n      <td>无</td>\n      <td>2026--0</td>\n      <td>C</td>\n      <td>Y</td>\n      <td>3</td>\n      <td>浙江省诸暨市陶</td>\n      <td>浙江省绍兴市诸</td>\n    </tr>\n    <tr>\n      <th>202112100340180870</th>\n      <td>NBTSPC0</td>\n      <td>上海</td>\n      <td>N</td>\n      <td>N</td>\n      <td>28</td>\n      <td>310000</td>\n      <td>2</td>\n      <td>0</td>\n      <td>40000</td>\n      <td>C0000</td>\n      <td>...</td>\n      <td>Y</td>\n      <td>NaN</td>\n      <td>D072112</td>\n      <td>无</td>\n      <td>2022--1</td>\n      <td>C</td>\n      <td>Y</td>\n      <td>4</td>\n      <td>江苏省海门市三</td>\n      <td>江苏省南通市海</td>\n    </tr>\n    <tr>\n      <th>...</th>\n      <td>...</td>\n      <td>...</td>\n      <td>...</td>\n      <td>...</td>\n      <td>...</td>\n      <td>...</td>\n      <td>...</td>\n      <td>...</td>\n      <td>...</td>\n      <td>...</td>\n      <td>...</td>\n      <td>...</td>\n      <td>...</td>\n      <td>...</td>\n      <td>...</td>\n      <td>...</td>\n      <td>...</td>\n      <td>...</td>\n      <td>...</td>\n      <td>...</td>\n      <td>...</td>\n    </tr>\n    <tr>\n      <th>202202280438323744</th>\n      <td>NBTSPC0</td>\n      <td>上海</td>\n      <td>N</td>\n      <td>N</td>\n      <td>33</td>\n      <td>310000</td>\n      <td>2</td>\n      <td>0</td>\n      <td>40000</td>\n      <td>C0000</td>\n      <td>...</td>\n      <td>Y</td>\n      <td>NaN</td>\n      <td>D072202</td>\n      <td>无</td>\n      <td>2036--0</td>\n      <td>C</td>\n      <td>Y</td>\n      <td>4</td>\n      <td>福建省周宁县礼</td>\n      <td>福建省宁德市周</td>\n    </tr>\n    <tr>\n      <th>202202280438323826</th>\n      <td>NBTSPC0</td>\n      <td>浙江</td>\n      <td>N</td>\n      <td>N</td>\n      <td>23</td>\n      <td>330400</td>\n      <td>1</td>\n      <td>0</td>\n      <td>40000</td>\n      <td>C0000</td>\n      <td>...</td>\n      <td>Y</td>\n      <td>NaN</td>\n      <td>D072202</td>\n      <td>无</td>\n      <td>2026--0</td>\n      <td>C</td>\n      <td>Y</td>\n      <td>4</td>\n      <td>河南省新县沙窝</td>\n      <td>河南省信阳市新</td>\n    </tr>\n    <tr>\n      <th>202202280438323830</th>\n      <td>NBTSPC0</td>\n      <td>浙江</td>\n      <td>N</td>\n      <td>N</td>\n      <td>22</td>\n      <td>330700</td>\n      <td>1</td>\n      <td>0</td>\n      <td>40000</td>\n      <td>C0000</td>\n      <td>...</td>\n      <td>Y</td>\n      <td>NaN</td>\n      <td>D072202</td>\n      <td>无</td>\n      <td>2030--0</td>\n      <td>C</td>\n      <td>Y</td>\n      <td>4</td>\n      <td>浙江省永康市芝</td>\n      <td>浙江省杭州市西</td>\n    </tr>\n    <tr>\n      <th>202202280438324343</th>\n      <td>NBTSPC0</td>\n      <td>浙江</td>\n      <td>N</td>\n      <td>N</td>\n      <td>30</td>\n      <td>330700</td>\n      <td>1</td>\n      <td>0</td>\n      <td>80000</td>\n      <td>C0000</td>\n      <td>...</td>\n      <td>Y</td>\n      <td>NaN</td>\n      <td>D072202</td>\n      <td>无</td>\n      <td>2041--0</td>\n      <td>C</td>\n      <td>Y</td>\n      <td>Y</td>\n      <td>河南省永城市黄</td>\n      <td>河南省商丘市永</td>\n    </tr>\n    <tr>\n      <th>202202280438324666</th>\n      <td>NBTSPC0</td>\n      <td>浙江</td>\n      <td>N</td>\n      <td>N</td>\n      <td>34</td>\n      <td>330500</td>\n      <td>1</td>\n      <td>0</td>\n      <td>80900</td>\n      <td>C0000</td>\n      <td>...</td>\n      <td>Y</td>\n      <td>NaN</td>\n      <td>D072202</td>\n      <td>无</td>\n      <td>2023--0</td>\n      <td>C</td>\n      <td>Y</td>\n      <td>Z</td>\n      <td>浙江省湖州市吴</td>\n      <td>八里店镇紫金桥</td>\n    </tr>\n  </tbody>\n</table>\n<p>2169 rows × 280 columns</p>\n</div>"
     },
     "execution_count": 19,
     "metadata": {},
     "output_type": "execute_result"
    }
   ],
   "source": [
    "data_rucan_limit_pivot = data_rucan_limit.pivot(index='apply_no',columns='index_name',values='score')\n",
    "data_rucan_limit_pivot"
   ],
   "metadata": {
    "collapsed": false,
    "pycharm": {
     "name": "#%%\n"
    }
   }
  },
  {
   "cell_type": "code",
   "execution_count": 21,
   "outputs": [
    {
     "data": {
      "text/plain": "['access_result.IN_产品类型',\n 'access_result.IN_号码归属地',\n 'access_result.IN_命中一个月内规则隔离有效期',\n 'access_result.IN_命中终身规则隔离有效期',\n 'access_result.IN_年龄',\n 'access_result.IN_手机号码归属地',\n 'access_result.IN_是否复借',\n 'access_result.IN_用户本产品历史授信通过笔数',\n 'access_result.IN_职业类型',\n 'access_result.IN_行业类型',\n 'access_result.IN_证件到期日',\n 'access_result.IN_身份证号',\n 'access_result.IN_身份证户籍地址',\n 'access_result.OUT_是否通过',\n 'access_result.OUT_节点结果',\n 'access_result.bpApplSeq',\n 'access_result.companyAddr',\n 'access_result.idValidDateEnd',\n 'access_result.industryType',\n 'access_result.nodeConclus',\n 'access_result.occupation',\n 'access_result.permanrntAddr',\n 'access_result.residentialAddr',\n 'applSeq',\n 'bhsxsp_result.IN_循环贷款当前逾期金额',\n 'bhsxsp_result.IN_百行反欺诈评分',\n 'bhsxsp_result.IN_非循环贷款当前逾期金额',\n 'bhsxsp_result.OUT_是否通过',\n 'bhsxsp_result.OUT_节点结果',\n 'bhsxsp_result.bpApplSeq',\n 'bhsxsp_result.companyAddr',\n 'bhsxsp_result.idValidDateEnd',\n 'bhsxsp_result.industryType',\n 'bhsxsp_result.nodeConclus',\n 'bhsxsp_result.occupation',\n 'bhsxsp_result.permanrntAddr',\n 'bhsxsp_result.residentialAddr',\n 'br_bzxr_gr_result.IN_失信人结构体数量',\n 'br_bzxr_gr_result.OUT_是否通过',\n 'br_bzxr_gr_result.bpApplSeq',\n 'br_bzxr_gr_result.companyAddr',\n 'br_bzxr_gr_result.idValidDateEnd',\n 'br_bzxr_gr_result.industryType',\n 'br_bzxr_gr_result.nodeConclus',\n 'br_bzxr_gr_result.occupation',\n 'br_bzxr_gr_result.permanrntAddr',\n 'br_bzxr_gr_result.residentialAddr',\n 'br_bzxr_xg_result.IN_限制高消费次数',\n 'br_bzxr_xg_result.OUT_是否通过',\n 'br_bzxr_xg_result.bpApplSeq',\n 'br_bzxr_xg_result.companyAddr',\n 'br_bzxr_xg_result.idValidDateEnd',\n 'br_bzxr_xg_result.industryType',\n 'br_bzxr_xg_result.nodeConclus',\n 'br_bzxr_xg_result.occupation',\n 'br_bzxr_xg_result.permanrntAddr',\n 'br_bzxr_xg_result.residentialAddr',\n 'br_czya_result.IN_偿债压力指数',\n 'br_czya_result.OUT_是否通过',\n 'br_czya_result.bpApplSeq',\n 'br_czya_result.companyAddr',\n 'br_czya_result.idValidDateEnd',\n 'br_czya_result.industryType',\n 'br_czya_result.nodeConclus',\n 'br_czya_result.occupation',\n 'br_czya_result.permanrntAddr',\n 'br_czya_result.residentialAddr',\n 'dt_result.IN_信贷账户最大单类别账户数',\n 'dt_result.IN_所有账户最早开立时间距今月份数',\n 'dt_result.IN_按身份证号查询近1个月在非银机构申请机构数',\n 'dt_result.IN_按身份证号查询近3个月在非银机构申请机构数',\n 'dt_result.OUT_是否通过',\n 'dt_result.OUT_节点结果',\n 'dt_result.bpApplSeq',\n 'dt_result.companyAddr',\n 'dt_result.idValidDateEnd',\n 'dt_result.industryType',\n 'dt_result.nodeConclus',\n 'dt_result.occupation',\n 'dt_result.permanrntAddr',\n 'dt_result.residentialAddr',\n 'final_result.IN_信贷最后一次逾期距今月数',\n 'final_result.IN_信贷最后一次逾期距今月数_score',\n 'final_result.IN_信贷账户最大单类别账户数',\n 'final_result.IN_公积金平均月缴存额',\n 'final_result.IN_公积金平均月缴存额_score',\n 'final_result.IN_基础分数_score',\n 'final_result.IN_当前已用额度大于授信额度的信用卡账户数',\n 'final_result.IN_当前已用额度大于授信额度的信用卡账户数_score',\n 'final_result.IN_当前贷记卡最高额度',\n 'final_result.IN_所有机构发放的房贷笔数',\n 'final_result.IN_所有机构发放的房贷笔数_score',\n 'final_result.IN_所有账户最早开立时间距今月份数',\n 'final_result.IN_是否有准贷记卡记录',\n 'final_result.IN_是否有贷款记录',\n 'final_result.IN_是否有贷记卡记录',\n 'final_result.IN_最近24个月内的担保资格查询次数',\n 'final_result.IN_最近24个月内的担保资格查询次数_score',\n 'final_result.IN_最近一次信用卡审批距离报告日天数',\n 'final_result.IN_最近一次信用卡审批距离报告日天数_score',\n 'final_result.IN_未结清消费金融贷款笔数占比',\n 'final_result.IN_未结清消费金融贷款笔数占比_score',\n 'final_result.IN_未销户贷记卡单家行最低授信额',\n 'final_result.IN_贷款近60个月逾期最大期数',\n 'final_result.IN_贷款近60个月逾期最大期数_score',\n 'final_result.IN_贷记卡最近24个月累计逾期数',\n 'final_result.IN_贷记卡最近24个月累计逾期数_score',\n 'final_result.IN_近12个月内查询次数',\n 'final_result.IN_近12个月内查询次数_score',\n 'final_result.IN_近180天有还款贷记卡账户数总额度占总共享额度比例',\n 'final_result.IN_近180天有还款贷记卡账户数总额度占总共享额度比例_score',\n 'final_result.IN_近24个月内发生逾期信用卡合计月份数',\n 'final_result.IN_近24个月内发生逾期信用卡合计月份数_score',\n 'final_result.IN_额度小于等于5千贷款笔数占比',\n 'final_result.IN_额度小于等于5千贷款笔数占比_score',\n 'final_result.OUT_信用等级',\n 'final_result.OUT_建议额度',\n 'final_result.OUT_得分',\n 'final_result.OUT_是否通过',\n 'final_result.OUT_月收入',\n 'final_result.OUT_矩阵建议额度',\n 'final_result.OUT_节点结果',\n 'final_result.OUT_贷记卡建议额度',\n 'final_result.T_判断决策表临时结果',\n 'final_result.bpApplSeq',\n 'final_result.companyAddr',\n 'final_result.idValidDateEnd',\n 'final_result.industryType',\n 'final_result.nodeConclus',\n 'final_result.occupation',\n 'final_result.permanrntAddr',\n 'final_result.residentialAddr',\n 'fxq_result.IN_业务关系建立及维护渠道_score',\n 'fxq_result.IN_年龄',\n 'fxq_result.IN_年龄_score',\n 'fxq_result.IN_户籍或居住地是否为辖内客户',\n 'fxq_result.IN_户籍或居住地是否为辖内客户_score',\n 'fxq_result.IN_新增客户反洗钱客户等级',\n 'fxq_result.IN_是否命中高风险地区',\n 'fxq_result.IN_是否命中高风险地区_score',\n 'fxq_result.IN_本行反洗钱检查',\n 'fxq_result.IN_用户风险等级',\n 'fxq_result.IN_用户风险等级_score',\n 'fxq_result.IN_职业类型',\n 'fxq_result.IN_职业类型_score',\n 'fxq_result.IN_行业类型',\n 'fxq_result.IN_行业类型_score',\n 'fxq_result.IN_证件类型',\n 'fxq_result.IN_证件类型_score',\n 'fxq_result.IN_身份证过期天数',\n 'fxq_result.IN_身份证过期天数_score',\n 'fxq_result.OUT_得分',\n 'fxq_result.OUT_是否通过',\n 'fxq_result.T_判断决策表临时结果',\n 'fxq_result.bpApplSeq',\n 'fxq_result.companyAddr',\n 'fxq_result.idValidDateEnd',\n 'fxq_result.industryType',\n 'fxq_result.nodeConclus',\n 'fxq_result.occupation',\n 'fxq_result.permanrntAddr',\n 'fxq_result.residentialAddr',\n 'hg_result.IN_借款人当前贷款授信总额',\n 'hg_result.IN_借款人生效线下授信笔数',\n 'hg_result.IN_客户授信额度',\n 'hg_result.IN_是否存在行内关联人',\n 'hg_result.OUT_是否通过',\n 'hg_result.OUT_节点结果',\n 'hg_result.bpApplSeq',\n 'hg_result.companyAddr',\n 'hg_result.idValidDateEnd',\n 'hg_result.industryType',\n 'hg_result.nodeConclus',\n 'hg_result.occupation',\n 'hg_result.permanrntAddr',\n 'hg_result.residentialAddr',\n 'hmd_result.IN_通过身份证号查询法院失信人',\n 'hmd_result.IN_通过身份证号查询法院被执行人',\n 'hmd_result.OUT_是否通过',\n 'hmd_result.bpApplSeq',\n 'hmd_result.companyAddr',\n 'hmd_result.idValidDateEnd',\n 'hmd_result.industryType',\n 'hmd_result.nodeConclus',\n 'hmd_result.occupation',\n 'hmd_result.permanrntAddr',\n 'hmd_result.residentialAddr',\n 'hnfqz_result.IN_历史利息最大逾期天数',\n 'hnfqz_result.IN_历史本金最大逾期天数',\n 'hnfqz_result.IN_号码归属地',\n 'hnfqz_result.IN_家庭住址',\n 'hnfqz_result.IN_是否为行内黑名单',\n 'hnfqz_result.IN_本产品同一家庭住址不同身份证号1天内授信申请的个数',\n 'hnfqz_result.IN_本产品同一家庭住址不同身份证号30天内授信申请的个数',\n 'hnfqz_result.IN_本产品同一家庭住址不同身份证号7天内授信申请的个数',\n 'hnfqz_result.IN_本产品同一户籍地址不同身份证号1天内授信申请的个数',\n 'hnfqz_result.IN_本产品同一户籍地址不同身份证号30天内授信申请的个数',\n 'hnfqz_result.IN_本产品同一户籍地址不同身份证号7天内授信申请的个数',\n 'hnfqz_result.IN_本产品同手机号30天内授信申请次数',\n 'hnfqz_result.IN_本产品同身份证30天内授信申请次数',\n 'hnfqz_result.IN_线下贷款当前是否存在逾期',\n 'hnfqz_result.IN_行内黑名单信息',\n 'hnfqz_result.IN_身份证户籍地址',\n 'hnfqz_result.IN_首期逾期最大天数',\n 'hnfqz_result.OUT_是否通过',\n 'hnfqz_result.OUT_节点结果',\n 'hnfqz_result.bpApplSeq',\n 'hnfqz_result.companyAddr',\n 'hnfqz_result.idValidDateEnd',\n 'hnfqz_result.industryType',\n 'hnfqz_result.nodeConclus',\n 'hnfqz_result.occupation',\n 'hnfqz_result.permanrntAddr',\n 'hnfqz_result.residentialAddr',\n 'jg_result.IN_近六个月714类APP安装过个数',\n 'jg_result.IN_近六个月P2P类APP安装过个数',\n 'jg_result.OUT_是否通过',\n 'jg_result.OUT_节点结果',\n 'jg_result.bpApplSeq',\n 'jg_result.companyAddr',\n 'jg_result.idValidDateEnd',\n 'jg_result.industryType',\n 'jg_result.nodeConclus',\n 'jg_result.occupation',\n 'jg_result.permanrntAddr',\n 'jg_result.residentialAddr',\n 'prjTyp',\n 'productId',\n 'rhsxsp_result.IN_24个月内贷款累计逾期次数',\n 'rhsxsp_result.IN_24个月内贷记卡累计逾期次数',\n 'rhsxsp_result.IN_信贷账户最大单类别账户数',\n 'rhsxsp_result.IN_当前贷款逾期期数',\n 'rhsxsp_result.IN_当前贷款逾期笔数',\n 'rhsxsp_result.IN_当前贷记卡逾期期数',\n 'rhsxsp_result.IN_征信查询状态',\n 'rhsxsp_result.IN_所有账户最早开立时间距今月份数',\n 'rhsxsp_result.IN_是否贷记卡或准贷记卡全部未激活',\n 'rhsxsp_result.IN_贷款五级分类出现关注次级可疑损失',\n 'rhsxsp_result.IN_贷款出现呆账冻结止付担保人代还以资抵债任一标识',\n 'rhsxsp_result.IN_贷款机构数',\n 'rhsxsp_result.IN_贷记卡出现呆账冻结止付担保人代还以资抵债任一标识',\n 'rhsxsp_result.IN_贷记卡发卡机构数包括准贷记卡',\n 'rhsxsp_result.IN_近12个月内贷记卡最高逾期期数',\n 'rhsxsp_result.IN_近3个月人行查询次数',\n 'rhsxsp_result.IN_近3个月内贷款连续逾期月份数',\n 'rhsxsp_result.IN_近3个月内贷记卡最高逾期期数',\n 'rhsxsp_result.IN_近6个月人行查询次数',\n 'rhsxsp_result.IN_近一个月人行查询次数',\n 'rhsxsp_result.OUT_是否通过',\n 'rhsxsp_result.OUT_节点结果',\n 'rhsxsp_result.bpApplSeq',\n 'rhsxsp_result.companyAddr',\n 'rhsxsp_result.idValidDateEnd',\n 'rhsxsp_result.industryType',\n 'rhsxsp_result.nodeConclus',\n 'rhsxsp_result.occupation',\n 'rhsxsp_result.permanrntAddr',\n 'rhsxsp_result.residentialAddr',\n 'sfrz_result.IN_百行客户三要素查询',\n 'sfrz_result.OUT_是否通过',\n 'sfrz_result.bpApplSeq',\n 'sfrz_result.companyAddr',\n 'sfrz_result.idValidDateEnd',\n 'sfrz_result.industryType',\n 'sfrz_result.nodeConclus',\n 'sfrz_result.occupation',\n 'sfrz_result.permanrntAddr',\n 'sfrz_result.residentialAddr',\n 'yys_result.IN_核查手机号的状态',\n 'yys_result.IN_运营商在网时长',\n 'yys_result.OUT_是否通过',\n 'yys_result.OUT_节点结果',\n 'yys_result.bpApplSeq',\n 'yys_result.companyAddr',\n 'yys_result.idValidDateEnd',\n 'yys_result.industryType',\n 'yys_result.nodeConclus',\n 'yys_result.occupation',\n 'yys_result.permanrntAddr',\n 'yys_result.residentialAddr']"
     },
     "execution_count": 21,
     "metadata": {},
     "output_type": "execute_result"
    }
   ],
   "source": [
    "list(data_rucan_limit_pivot)"
   ],
   "metadata": {
    "collapsed": false,
    "pycharm": {
     "name": "#%%\n"
    }
   }
  },
  {
   "cell_type": "code",
   "execution_count": 22,
   "outputs": [
    {
     "data": {
      "text/plain": "apply_no\n202112100340180821    -16\n202112100340180861    -11\n202112100340180862     -4\n202112100340180863     -4\n202112100340180870    -16\n                     ... \n202202280438323744    -11\n202202280438323826    -11\n202202280438323830    -11\n202202280438324343      4\n202202280438324666    -16\nName: final_result.IN_近12个月内查询次数_score, Length: 2169, dtype: object"
     },
     "execution_count": 22,
     "metadata": {},
     "output_type": "execute_result"
    }
   ],
   "source": [
    "data_rucan_limit_pivot[\"final_result.IN_近12个月内查询次数_score\"]+data_rucan_limit_pivot[\"final_result.IN_未结清消费金融贷款笔数占比_score\"]+\"final_result.IN_信贷最后一次逾期距今月数_score\""
   ],
   "metadata": {
    "collapsed": false,
    "pycharm": {
     "name": "#%%\n"
    }
   }
  },
  {
   "cell_type": "code",
   "execution_count": 26,
   "outputs": [
    {
     "data": {
      "text/plain": "                                                   count\nsfrz_result.IN_百行客户三要素查询 final_result.nodeConclus       \n-1                       N                             5\n0                        N                          1429\n                         Y                           412\n1                        N                            17\n                         Y                             7\n3                        N                           237\n                         Y                            62",
      "text/html": "<div>\n<style scoped>\n    .dataframe tbody tr th:only-of-type {\n        vertical-align: middle;\n    }\n\n    .dataframe tbody tr th {\n        vertical-align: top;\n    }\n\n    .dataframe thead th {\n        text-align: right;\n    }\n</style>\n<table border=\"1\" class=\"dataframe\">\n  <thead>\n    <tr style=\"text-align: right;\">\n      <th></th>\n      <th></th>\n      <th>count</th>\n    </tr>\n    <tr>\n      <th>sfrz_result.IN_百行客户三要素查询</th>\n      <th>final_result.nodeConclus</th>\n      <th></th>\n    </tr>\n  </thead>\n  <tbody>\n    <tr>\n      <th>-1</th>\n      <th>N</th>\n      <td>5</td>\n    </tr>\n    <tr>\n      <th rowspan=\"2\" valign=\"top\">0</th>\n      <th>N</th>\n      <td>1429</td>\n    </tr>\n    <tr>\n      <th>Y</th>\n      <td>412</td>\n    </tr>\n    <tr>\n      <th rowspan=\"2\" valign=\"top\">1</th>\n      <th>N</th>\n      <td>17</td>\n    </tr>\n    <tr>\n      <th>Y</th>\n      <td>7</td>\n    </tr>\n    <tr>\n      <th rowspan=\"2\" valign=\"top\">3</th>\n      <th>N</th>\n      <td>237</td>\n    </tr>\n    <tr>\n      <th>Y</th>\n      <td>62</td>\n    </tr>\n  </tbody>\n</table>\n</div>"
     },
     "execution_count": 26,
     "metadata": {},
     "output_type": "execute_result"
    }
   ],
   "source": [
    "temp = data_rucan_limit_pivot.groupby([\"sfrz_result.IN_百行客户三要素查询\",\"final_result.nodeConclus\"])[\"final_result.IN_近12个月内查询次数_score\"].count().to_frame().rename(columns={\"final_result.IN_近12个月内查询次数_score\":'count'})\n",
    "temp"
   ],
   "metadata": {
    "collapsed": false,
    "pycharm": {
     "name": "#%%\n"
    }
   }
  },
  {
   "cell_type": "code",
   "execution_count": 27,
   "outputs": [
    {
     "data": {
      "text/plain": "1688"
     },
     "execution_count": 27,
     "metadata": {},
     "output_type": "execute_result"
    }
   ],
   "source": [
    "5+1429+17+237 #未通过的"
   ],
   "metadata": {
    "collapsed": false,
    "pycharm": {
     "name": "#%%\n"
    }
   }
  },
  {
   "cell_type": "code",
   "execution_count": 28,
   "outputs": [
    {
     "data": {
      "text/plain": "481"
     },
     "execution_count": 28,
     "metadata": {},
     "output_type": "execute_result"
    }
   ],
   "source": [
    "412+7+62 #通过的"
   ],
   "metadata": {
    "collapsed": false,
    "pycharm": {
     "name": "#%%\n"
    }
   }
  },
  {
   "cell_type": "code",
   "execution_count": 33,
   "outputs": [
    {
     "name": "stdout",
     "output_type": "stream",
     "text": [
      "三要素条件下通过的比例为 0.22176118026740432\n"
     ]
    }
   ],
   "source": [
    "print('三要素条件下通过的比例为',481/2169)"
   ],
   "metadata": {
    "collapsed": false,
    "pycharm": {
     "name": "#%%\n"
    }
   }
  },
  {
   "cell_type": "code",
   "execution_count": null,
   "outputs": [],
   "source": [
    "#定义新变量\n",
    "data_rucan_limit_pivot[\"final_result.IN_近12个月内查询次数_score\"]+data_rucan_limit_pivot[\"final_result.IN_未结清消费金融贷款笔数占比_score\"]+\"final_result.IN_信贷最后一次逾期距今月数_score\""
   ],
   "metadata": {
    "collapsed": false,
    "pycharm": {
     "name": "#%%\n"
    }
   }
  },
  {
   "cell_type": "code",
   "execution_count": 36,
   "outputs": [],
   "source": [
    "data_rucan_limit_pivot.to_csv('/Users/haozhang/Desktop/入参数据整理/20220302（2月数据下）/入参数据整理.csv',encoding=\"utf_8\")\n"
   ],
   "metadata": {
    "collapsed": false,
    "pycharm": {
     "name": "#%%\n"
    }
   }
  },
  {
   "cell_type": "code",
   "execution_count": 37,
   "outputs": [
    {
     "ename": "SyntaxError",
     "evalue": "invalid syntax (<ipython-input-37-ad113cccd049>, line 1)",
     "output_type": "error",
     "traceback": [
      "\u001B[0;36m  File \u001B[0;32m\"<ipython-input-37-ad113cccd049>\"\u001B[0;36m, line \u001B[0;32m1\u001B[0m\n\u001B[0;31m    data_rucan_limit_pivot['人行模型分'] =\u001B[0m\n\u001B[0m                                     ^\u001B[0m\n\u001B[0;31mSyntaxError\u001B[0m\u001B[0;31m:\u001B[0m invalid syntax\n"
     ]
    }
   ],
   "source": [
    "data_rucan_limit_pivot['人行模型分'] =\n",
    "list[\"\"]\n"
   ],
   "metadata": {
    "collapsed": false,
    "pycharm": {
     "name": "#%%\n"
    }
   }
  },
  {
   "cell_type": "code",
   "execution_count": 41,
   "outputs": [],
   "source": [
    "tmp_list=[\"final_result.IN_近12个月内查询次数_score\",\n",
    "          \"final_result.IN_未结清消费金融贷款笔数占比_score\",\n",
    "          \"final_result.IN_信贷最后一次逾期距今月数_score\",\n",
    "          \"final_result.IN_公积金平均月缴存额_score\",\n",
    "          \"final_result.IN_当前已用额度大于授信额度的信用卡账户数_score\",\n",
    "          \"final_result.IN_额度小于等于5千贷款笔数占比_score\",\n",
    "          \"final_result.IN_最近一次信用卡审批距离报告日天数_score\",\n",
    "          \"final_result.IN_所有机构发放的房贷笔数\",\n",
    "          \"final_result.IN_近180天有还款贷记卡账户数总额度占总共享额度比例_score\",\n",
    "         \"final_result.IN_贷记卡最近24个月累计逾期数_score\",\n",
    "         \"final_result.IN_最近24个月内的担保资格查询次数_score\",\n",
    "         \"final_result.IN_贷款近60个月逾期最大期数_score\"]"
   ],
   "metadata": {
    "collapsed": false,
    "pycharm": {
     "name": "#%%\n"
    }
   }
  },
  {
   "cell_type": "code",
   "execution_count": 42,
   "outputs": [],
   "source": [
    "test=data_rucan_limit_pivot[tmp_list]"
   ],
   "metadata": {
    "collapsed": false,
    "pycharm": {
     "name": "#%%\n"
    }
   }
  },
  {
   "cell_type": "code",
   "execution_count": 45,
   "outputs": [],
   "source": [
    "test=test.astype('float')"
   ],
   "metadata": {
    "collapsed": false,
    "pycharm": {
     "name": "#%%\n"
    }
   }
  },
  {
   "cell_type": "code",
   "execution_count": 53,
   "outputs": [],
   "source": [
    "test['score']=test.sum(axis=1).tolist()"
   ],
   "metadata": {
    "collapsed": false,
    "pycharm": {
     "name": "#%%\n"
    }
   }
  },
  {
   "cell_type": "code",
   "execution_count": 54,
   "outputs": [
    {
     "data": {
      "text/plain": "index_name          final_result.IN_近12个月内查询次数_score  \\\napply_no                                               \n202112100340180821                             -16.0   \n202112100340180861                             -11.0   \n202112100340180862                              -4.0   \n202112100340180863                              -4.0   \n202112100340180870                             -16.0   \n...                                              ...   \n202202280438323744                             -11.0   \n202202280438323826                             -11.0   \n202202280438323830                             -11.0   \n202202280438324343                               4.0   \n202202280438324666                             -16.0   \n\nindex_name          final_result.IN_未结清消费金融贷款笔数占比_score  \\\napply_no                                                  \n202112100340180821                                 -9.0   \n202112100340180861                                 -9.0   \n202112100340180862                                 -3.0   \n202112100340180863                                 -9.0   \n202112100340180870                                 -9.0   \n...                                                 ...   \n202202280438323744                                 -9.0   \n202202280438323826                                 -9.0   \n202202280438323830                                 -9.0   \n202202280438324343                                 -9.0   \n202202280438324666                                 -9.0   \n\nindex_name          final_result.IN_信贷最后一次逾期距今月数_score  \\\napply_no                                                 \n202112100340180821                                 5.0   \n202112100340180861                                 1.0   \n202112100340180862                                 5.0   \n202112100340180863                                 1.0   \n202112100340180870                                 5.0   \n...                                                ...   \n202202280438323744                                 5.0   \n202202280438323826                                 5.0   \n202202280438323830                                 5.0   \n202202280438324343                                 5.0   \n202202280438324666                                 5.0   \n\nindex_name          final_result.IN_公积金平均月缴存额_score  \\\napply_no                                              \n202112100340180821                             -1.0   \n202112100340180861                             -1.0   \n202112100340180862                             -1.0   \n202112100340180863                             -1.0   \n202112100340180870                             13.0   \n...                                             ...   \n202202280438323744                             -1.0   \n202202280438323826                             -1.0   \n202202280438323830                             -1.0   \n202202280438324343                             -1.0   \n202202280438324666                             -1.0   \n\nindex_name          final_result.IN_当前已用额度大于授信额度的信用卡账户数_score  \\\napply_no                                                        \n202112100340180821                                       -3.0   \n202112100340180861                                        5.0   \n202112100340180862                                        5.0   \n202112100340180863                                      -10.0   \n202112100340180870                                       -3.0   \n...                                                       ...   \n202202280438323744                                        5.0   \n202202280438323826                                        5.0   \n202202280438323830                                       -3.0   \n202202280438324343                                       -3.0   \n202202280438324666                                        5.0   \n\nindex_name          final_result.IN_额度小于等于5千贷款笔数占比_score  \\\napply_no                                                   \n202112100340180821                                   4.0   \n202112100340180861                                   9.0   \n202112100340180862                                 -10.0   \n202112100340180863                                   9.0   \n202112100340180870                                   0.0   \n...                                                  ...   \n202202280438323744                                   4.0   \n202202280438323826                                   0.0   \n202202280438323830                                   0.0   \n202202280438324343                                   0.0   \n202202280438324666                                  -5.0   \n\nindex_name          final_result.IN_最近一次信用卡审批距离报告日天数_score  \\\napply_no                                                     \n202112100340180821                                    -2.0   \n202112100340180861                                    -2.0   \n202112100340180862                                     3.0   \n202112100340180863                                    -2.0   \n202112100340180870                                     3.0   \n...                                                    ...   \n202202280438323744                                    -2.0   \n202202280438323826                                    -4.0   \n202202280438323830                                     3.0   \n202202280438324343                                     3.0   \n202202280438324666                                    -4.0   \n\nindex_name          final_result.IN_所有机构发放的房贷笔数  \\\napply_no                                          \n202112100340180821                          0.0   \n202112100340180861                          0.0   \n202112100340180862                          0.0   \n202112100340180863                          0.0   \n202112100340180870                          0.0   \n...                                         ...   \n202202280438323744                          0.0   \n202202280438323826                          0.0   \n202202280438323830                          0.0   \n202202280438324343                          0.0   \n202202280438324666                          0.0   \n\nindex_name          final_result.IN_近180天有还款贷记卡账户数总额度占总共享额度比例_score  \\\napply_no                                                              \n202112100340180821                                             -3.0   \n202112100340180861                                              3.0   \n202112100340180862                                              3.0   \n202112100340180863                                              3.0   \n202112100340180870                                             12.0   \n...                                                             ...   \n202202280438323744                                              3.0   \n202202280438323826                                              3.0   \n202202280438323830                                              3.0   \n202202280438324343                                              3.0   \n202202280438324666                                             12.0   \n\nindex_name          final_result.IN_贷记卡最近24个月累计逾期数_score  \\\napply_no                                                   \n202112100340180821                                  -2.0   \n202112100340180861                                  -2.0   \n202112100340180862                                  -2.0   \n202112100340180863                                  -2.0   \n202112100340180870                                  -2.0   \n...                                                  ...   \n202202280438323744                                   NaN   \n202202280438323826                                   NaN   \n202202280438323830                                   NaN   \n202202280438324343                                   NaN   \n202202280438324666                                   NaN   \n\nindex_name          final_result.IN_最近24个月内的担保资格查询次数_score  \\\napply_no                                                     \n202112100340180821                                   -13.0   \n202112100340180861                                     1.0   \n202112100340180862                                     1.0   \n202112100340180863                                     1.0   \n202112100340180870                                   -13.0   \n...                                                    ...   \n202202280438323744                                   -13.0   \n202202280438323826                                     1.0   \n202202280438323830                                     1.0   \n202202280438324343                                   -13.0   \n202202280438324666                                     1.0   \n\nindex_name          final_result.IN_贷款近60个月逾期最大期数_score  score  \napply_no                                                        \n202112100340180821                                  2.0  -38.0  \n202112100340180861                                  2.0   -4.0  \n202112100340180862                                  2.0   -1.0  \n202112100340180863                                  2.0  -12.0  \n202112100340180870                                  2.0   -8.0  \n...                                                 ...    ...  \n202202280438323744                                  2.0  -17.0  \n202202280438323826                                  2.0   -9.0  \n202202280438323830                                  2.0  -10.0  \n202202280438324343                                  2.0   -9.0  \n202202280438324666                                  2.0  -10.0  \n\n[2169 rows x 13 columns]",
      "text/html": "<div>\n<style scoped>\n    .dataframe tbody tr th:only-of-type {\n        vertical-align: middle;\n    }\n\n    .dataframe tbody tr th {\n        vertical-align: top;\n    }\n\n    .dataframe thead th {\n        text-align: right;\n    }\n</style>\n<table border=\"1\" class=\"dataframe\">\n  <thead>\n    <tr style=\"text-align: right;\">\n      <th>index_name</th>\n      <th>final_result.IN_近12个月内查询次数_score</th>\n      <th>final_result.IN_未结清消费金融贷款笔数占比_score</th>\n      <th>final_result.IN_信贷最后一次逾期距今月数_score</th>\n      <th>final_result.IN_公积金平均月缴存额_score</th>\n      <th>final_result.IN_当前已用额度大于授信额度的信用卡账户数_score</th>\n      <th>final_result.IN_额度小于等于5千贷款笔数占比_score</th>\n      <th>final_result.IN_最近一次信用卡审批距离报告日天数_score</th>\n      <th>final_result.IN_所有机构发放的房贷笔数</th>\n      <th>final_result.IN_近180天有还款贷记卡账户数总额度占总共享额度比例_score</th>\n      <th>final_result.IN_贷记卡最近24个月累计逾期数_score</th>\n      <th>final_result.IN_最近24个月内的担保资格查询次数_score</th>\n      <th>final_result.IN_贷款近60个月逾期最大期数_score</th>\n      <th>score</th>\n    </tr>\n    <tr>\n      <th>apply_no</th>\n      <th></th>\n      <th></th>\n      <th></th>\n      <th></th>\n      <th></th>\n      <th></th>\n      <th></th>\n      <th></th>\n      <th></th>\n      <th></th>\n      <th></th>\n      <th></th>\n      <th></th>\n    </tr>\n  </thead>\n  <tbody>\n    <tr>\n      <th>202112100340180821</th>\n      <td>-16.0</td>\n      <td>-9.0</td>\n      <td>5.0</td>\n      <td>-1.0</td>\n      <td>-3.0</td>\n      <td>4.0</td>\n      <td>-2.0</td>\n      <td>0.0</td>\n      <td>-3.0</td>\n      <td>-2.0</td>\n      <td>-13.0</td>\n      <td>2.0</td>\n      <td>-38.0</td>\n    </tr>\n    <tr>\n      <th>202112100340180861</th>\n      <td>-11.0</td>\n      <td>-9.0</td>\n      <td>1.0</td>\n      <td>-1.0</td>\n      <td>5.0</td>\n      <td>9.0</td>\n      <td>-2.0</td>\n      <td>0.0</td>\n      <td>3.0</td>\n      <td>-2.0</td>\n      <td>1.0</td>\n      <td>2.0</td>\n      <td>-4.0</td>\n    </tr>\n    <tr>\n      <th>202112100340180862</th>\n      <td>-4.0</td>\n      <td>-3.0</td>\n      <td>5.0</td>\n      <td>-1.0</td>\n      <td>5.0</td>\n      <td>-10.0</td>\n      <td>3.0</td>\n      <td>0.0</td>\n      <td>3.0</td>\n      <td>-2.0</td>\n      <td>1.0</td>\n      <td>2.0</td>\n      <td>-1.0</td>\n    </tr>\n    <tr>\n      <th>202112100340180863</th>\n      <td>-4.0</td>\n      <td>-9.0</td>\n      <td>1.0</td>\n      <td>-1.0</td>\n      <td>-10.0</td>\n      <td>9.0</td>\n      <td>-2.0</td>\n      <td>0.0</td>\n      <td>3.0</td>\n      <td>-2.0</td>\n      <td>1.0</td>\n      <td>2.0</td>\n      <td>-12.0</td>\n    </tr>\n    <tr>\n      <th>202112100340180870</th>\n      <td>-16.0</td>\n      <td>-9.0</td>\n      <td>5.0</td>\n      <td>13.0</td>\n      <td>-3.0</td>\n      <td>0.0</td>\n      <td>3.0</td>\n      <td>0.0</td>\n      <td>12.0</td>\n      <td>-2.0</td>\n      <td>-13.0</td>\n      <td>2.0</td>\n      <td>-8.0</td>\n    </tr>\n    <tr>\n      <th>...</th>\n      <td>...</td>\n      <td>...</td>\n      <td>...</td>\n      <td>...</td>\n      <td>...</td>\n      <td>...</td>\n      <td>...</td>\n      <td>...</td>\n      <td>...</td>\n      <td>...</td>\n      <td>...</td>\n      <td>...</td>\n      <td>...</td>\n    </tr>\n    <tr>\n      <th>202202280438323744</th>\n      <td>-11.0</td>\n      <td>-9.0</td>\n      <td>5.0</td>\n      <td>-1.0</td>\n      <td>5.0</td>\n      <td>4.0</td>\n      <td>-2.0</td>\n      <td>0.0</td>\n      <td>3.0</td>\n      <td>NaN</td>\n      <td>-13.0</td>\n      <td>2.0</td>\n      <td>-17.0</td>\n    </tr>\n    <tr>\n      <th>202202280438323826</th>\n      <td>-11.0</td>\n      <td>-9.0</td>\n      <td>5.0</td>\n      <td>-1.0</td>\n      <td>5.0</td>\n      <td>0.0</td>\n      <td>-4.0</td>\n      <td>0.0</td>\n      <td>3.0</td>\n      <td>NaN</td>\n      <td>1.0</td>\n      <td>2.0</td>\n      <td>-9.0</td>\n    </tr>\n    <tr>\n      <th>202202280438323830</th>\n      <td>-11.0</td>\n      <td>-9.0</td>\n      <td>5.0</td>\n      <td>-1.0</td>\n      <td>-3.0</td>\n      <td>0.0</td>\n      <td>3.0</td>\n      <td>0.0</td>\n      <td>3.0</td>\n      <td>NaN</td>\n      <td>1.0</td>\n      <td>2.0</td>\n      <td>-10.0</td>\n    </tr>\n    <tr>\n      <th>202202280438324343</th>\n      <td>4.0</td>\n      <td>-9.0</td>\n      <td>5.0</td>\n      <td>-1.0</td>\n      <td>-3.0</td>\n      <td>0.0</td>\n      <td>3.0</td>\n      <td>0.0</td>\n      <td>3.0</td>\n      <td>NaN</td>\n      <td>-13.0</td>\n      <td>2.0</td>\n      <td>-9.0</td>\n    </tr>\n    <tr>\n      <th>202202280438324666</th>\n      <td>-16.0</td>\n      <td>-9.0</td>\n      <td>5.0</td>\n      <td>-1.0</td>\n      <td>5.0</td>\n      <td>-5.0</td>\n      <td>-4.0</td>\n      <td>0.0</td>\n      <td>12.0</td>\n      <td>NaN</td>\n      <td>1.0</td>\n      <td>2.0</td>\n      <td>-10.0</td>\n    </tr>\n  </tbody>\n</table>\n<p>2169 rows × 13 columns</p>\n</div>"
     },
     "execution_count": 54,
     "metadata": {},
     "output_type": "execute_result"
    }
   ],
   "source": [
    "test"
   ],
   "metadata": {
    "collapsed": false,
    "pycharm": {
     "name": "#%%\n"
    }
   }
  },
  {
   "cell_type": "code",
   "execution_count": null,
   "outputs": [],
   "source": [
    "data_rucan_limit_pivot['人行模型分'] ="
   ],
   "metadata": {
    "collapsed": false,
    "pycharm": {
     "name": "#%%\n"
    }
   }
  }
 ],
 "metadata": {
  "kernelspec": {
   "display_name": "Python 3",
   "language": "python",
   "name": "python3"
  },
  "language_info": {
   "codemirror_mode": {
    "name": "ipython",
    "version": 2
   },
   "file_extension": ".py",
   "mimetype": "text/x-python",
   "name": "python",
   "nbconvert_exporter": "python",
   "pygments_lexer": "ipython2",
   "version": "2.7.6"
  }
 },
 "nbformat": 4,
 "nbformat_minor": 0
}